{
 "cells": [
  {
   "cell_type": "code",
   "execution_count": 3,
   "metadata": {
    "collapsed": true
   },
   "outputs": [
    {
     "name": "stdout",
     "output_type": "stream",
     "text": [
      "<class 'pandas.core.frame.DataFrame'>\n",
      "DatetimeIndex: 1259 entries, 2016-12-19 to 2021-12-17\n",
      "Data columns (total 6 columns):\n",
      " #   Column     Non-Null Count  Dtype  \n",
      "---  ------     --------------  -----  \n",
      " 0   High       1259 non-null   float64\n",
      " 1   Low        1259 non-null   float64\n",
      " 2   Open       1259 non-null   float64\n",
      " 3   Close      1259 non-null   float64\n",
      " 4   Volume     1259 non-null   float64\n",
      " 5   Adj Close  1259 non-null   float64\n",
      "dtypes: float64(6)\n",
      "memory usage: 68.9 KB\n",
      "None\n"
     ]
    }
   ],
   "source": [
    "# Using Pandas-Datareader # TODO\n",
    "import pandas_datareader as pdr\n",
    "\n",
    "# Request data via Yahoo public API\n",
    "datapdr = pdr.get_data_yahoo ('NVDA')\n",
    "\n",
    "# Display info\n",
    "print(datapdr.info())"
   ]
  },
  {
   "cell_type": "code",
   "execution_count": 4,
   "outputs": [
    {
     "name": "stdout",
     "output_type": "stream",
     "text": [
      "                  High         Low        Open       Close      Volume  \\\n",
      "Date                                                                     \n",
      "2016-12-19   25.612499   24.750000   24.924999   25.407499  74465600.0   \n",
      "2016-12-20   26.532499   26.030001   26.145000   26.292500  84805600.0   \n",
      "2016-12-21   26.487499   25.927500   26.410000   26.457500  57613600.0   \n",
      "2016-12-22   27.217501   26.632500   26.705000   26.777500  71861200.0   \n",
      "2016-12-23   27.459999   26.567499   26.594999   27.445000  64769200.0   \n",
      "...                ...         ...         ...         ...         ...   \n",
      "2021-12-13  302.940002  281.160004  302.489990  281.609985  59834400.0   \n",
      "2021-12-14  286.779999  272.500000  276.989990  283.369995  66703500.0   \n",
      "2021-12-15  305.000000  278.380005  284.000000  304.589996  69829700.0   \n",
      "2021-12-16  311.600006  280.929993  311.519989  283.869995  70736600.0   \n",
      "2021-12-17  289.220001  277.600006  279.850006  278.010010  71375800.0   \n",
      "\n",
      "             Adj Close  \n",
      "Date                    \n",
      "2016-12-19   25.076973  \n",
      "2016-12-20   25.950459  \n",
      "2016-12-21   26.113312  \n",
      "2016-12-22   26.429146  \n",
      "2016-12-23   27.087967  \n",
      "...                ...  \n",
      "2021-12-13  281.609985  \n",
      "2021-12-14  283.369995  \n",
      "2021-12-15  304.589996  \n",
      "2021-12-16  283.869995  \n",
      "2021-12-17  278.010010  \n",
      "\n",
      "[1259 rows x 6 columns]\n"
     ]
    }
   ],
   "source": [
    "print(datapdr)"
   ],
   "metadata": {
    "collapsed": false,
    "pycharm": {
     "name": "#%%\n"
    }
   }
  },
  {
   "cell_type": "code",
   "execution_count": null,
   "outputs": [
    {
     "name": "stderr",
     "output_type": "stream",
     "text": [
      "ERROR: Exception:\n",
      "Traceback (most recent call last):\n",
      "  File \"d:\\prvt\\python works\\pythontestv1\\venv\\lib\\site-packages\\pip\\_vendor\\urllib3\\response.py\", line 438, in _error_catcher\n",
      "    yield\n",
      "  File \"d:\\prvt\\python works\\pythontestv1\\venv\\lib\\site-packages\\pip\\_vendor\\urllib3\\response.py\", line 519, in read\n",
      "    data = self._fp.read(amt) if not fp_closed else b\"\"\n",
      "  File \"d:\\prvt\\python works\\pythontestv1\\venv\\lib\\site-packages\\pip\\_vendor\\cachecontrol\\filewrapper.py\", line 62, in read\n",
      "    data = self.__fp.read(amt)\n",
      "  File \"C:\\Users\\kikim\\AppData\\Local\\Programs\\Python\\Python310\\lib\\http\\client.py\", line 464, in read\n",
      "    s = self.fp.read(amt)\n",
      "  File \"C:\\Users\\kikim\\AppData\\Local\\Programs\\Python\\Python310\\lib\\socket.py\", line 705, in readinto\n",
      "    return self._sock.recv_into(b)\n",
      "  File \"C:\\Users\\kikim\\AppData\\Local\\Programs\\Python\\Python310\\lib\\ssl.py\", line 1273, in recv_into\n",
      "    return self.read(nbytes, buffer)\n",
      "  File \"C:\\Users\\kikim\\AppData\\Local\\Programs\\Python\\Python310\\lib\\ssl.py\", line 1129, in read\n",
      "    return self._sslobj.read(len, buffer)\n",
      "TimeoutError: The read operation timed out\n",
      "\n",
      "During handling of the above exception, another exception occurred:\n",
      "\n",
      "Traceback (most recent call last):\n",
      "  File \"d:\\prvt\\python works\\pythontestv1\\venv\\lib\\site-packages\\pip\\_internal\\cli\\base_command.py\", line 180, in _main\n",
      "    status = self.run(options, args)\n",
      "  File \"d:\\prvt\\python works\\pythontestv1\\venv\\lib\\site-packages\\pip\\_internal\\cli\\req_command.py\", line 204, in wrapper\n",
      "    return func(self, options, args)\n",
      "  File \"d:\\prvt\\python works\\pythontestv1\\venv\\lib\\site-packages\\pip\\_internal\\commands\\install.py\", line 318, in run\n",
      "    requirement_set = resolver.resolve(\n",
      "  File \"d:\\prvt\\python works\\pythontestv1\\venv\\lib\\site-packages\\pip\\_internal\\resolution\\resolvelib\\resolver.py\", line 127, in resolve\n",
      "    result = self._result = resolver.resolve(\n",
      "  File \"d:\\prvt\\python works\\pythontestv1\\venv\\lib\\site-packages\\pip\\_vendor\\resolvelib\\resolvers.py\", line 473, in resolve\n",
      "    state = resolution.resolve(requirements, max_rounds=max_rounds)\n",
      "  File \"d:\\prvt\\python works\\pythontestv1\\venv\\lib\\site-packages\\pip\\_vendor\\resolvelib\\resolvers.py\", line 341, in resolve\n",
      "    name, crit = self._merge_into_criterion(r, parent=None)\n",
      "  File \"d:\\prvt\\python works\\pythontestv1\\venv\\lib\\site-packages\\pip\\_vendor\\resolvelib\\resolvers.py\", line 172, in _merge_into_criterion\n",
      "    if not criterion.candidates:\n",
      "  File \"d:\\prvt\\python works\\pythontestv1\\venv\\lib\\site-packages\\pip\\_vendor\\resolvelib\\structs.py\", line 139, in __bool__\n",
      "    return bool(self._sequence)\n",
      "  File \"d:\\prvt\\python works\\pythontestv1\\venv\\lib\\site-packages\\pip\\_internal\\resolution\\resolvelib\\found_candidates.py\", line 143, in __bool__\n",
      "    return any(self)\n",
      "  File \"d:\\prvt\\python works\\pythontestv1\\venv\\lib\\site-packages\\pip\\_internal\\resolution\\resolvelib\\found_candidates.py\", line 129, in <genexpr>\n",
      "    return (c for c in iterator if id(c) not in self._incompatible_ids)\n",
      "  File \"d:\\prvt\\python works\\pythontestv1\\venv\\lib\\site-packages\\pip\\_internal\\resolution\\resolvelib\\found_candidates.py\", line 33, in _iter_built\n",
      "    candidate = func()\n",
      "  File \"d:\\prvt\\python works\\pythontestv1\\venv\\lib\\site-packages\\pip\\_internal\\resolution\\resolvelib\\factory.py\", line 200, in _make_candidate_from_link\n",
      "    self._link_candidate_cache[link] = LinkCandidate(\n",
      "  File \"d:\\prvt\\python works\\pythontestv1\\venv\\lib\\site-packages\\pip\\_internal\\resolution\\resolvelib\\candidates.py\", line 306, in __init__\n",
      "    super().__init__(\n",
      "  File \"d:\\prvt\\python works\\pythontestv1\\venv\\lib\\site-packages\\pip\\_internal\\resolution\\resolvelib\\candidates.py\", line 151, in __init__\n",
      "    self.dist = self._prepare()\n",
      "  File \"d:\\prvt\\python works\\pythontestv1\\venv\\lib\\site-packages\\pip\\_internal\\resolution\\resolvelib\\candidates.py\", line 234, in _prepare\n",
      "    dist = self._prepare_distribution()\n",
      "  File \"d:\\prvt\\python works\\pythontestv1\\venv\\lib\\site-packages\\pip\\_internal\\resolution\\resolvelib\\candidates.py\", line 317, in _prepare_distribution\n",
      "    return self._factory.preparer.prepare_linked_requirement(\n",
      "  File \"d:\\prvt\\python works\\pythontestv1\\venv\\lib\\site-packages\\pip\\_internal\\operations\\prepare.py\", line 508, in prepare_linked_requirement\n",
      "    return self._prepare_linked_requirement(req, parallel_builds)\n",
      "  File \"d:\\prvt\\python works\\pythontestv1\\venv\\lib\\site-packages\\pip\\_internal\\operations\\prepare.py\", line 550, in _prepare_linked_requirement\n",
      "    local_file = unpack_url(\n",
      "  File \"d:\\prvt\\python works\\pythontestv1\\venv\\lib\\site-packages\\pip\\_internal\\operations\\prepare.py\", line 239, in unpack_url\n",
      "    file = get_http_url(\n",
      "  File \"d:\\prvt\\python works\\pythontestv1\\venv\\lib\\site-packages\\pip\\_internal\\operations\\prepare.py\", line 102, in get_http_url\n",
      "    from_path, content_type = download(link, temp_dir.path)\n",
      "  File \"d:\\prvt\\python works\\pythontestv1\\venv\\lib\\site-packages\\pip\\_internal\\network\\download.py\", line 157, in __call__\n",
      "    for chunk in chunks:\n",
      "  File \"d:\\prvt\\python works\\pythontestv1\\venv\\lib\\site-packages\\pip\\_internal\\cli\\progress_bars.py\", line 152, in iter\n",
      "    for x in it:\n",
      "  File \"d:\\prvt\\python works\\pythontestv1\\venv\\lib\\site-packages\\pip\\_internal\\network\\utils.py\", line 62, in response_chunks\n",
      "    for chunk in response.raw.stream(\n",
      "  File \"d:\\prvt\\python works\\pythontestv1\\venv\\lib\\site-packages\\pip\\_vendor\\urllib3\\response.py\", line 576, in stream\n",
      "    data = self.read(amt=amt, decode_content=decode_content)\n",
      "  File \"d:\\prvt\\python works\\pythontestv1\\venv\\lib\\site-packages\\pip\\_vendor\\urllib3\\response.py\", line 512, in read\n",
      "    with self._error_catcher():\n",
      "  File \"C:\\Users\\kikim\\AppData\\Local\\Programs\\Python\\Python310\\lib\\contextlib.py\", line 153, in __exit__\n",
      "    self.gen.throw(typ, value, traceback)\n",
      "  File \"d:\\prvt\\python works\\pythontestv1\\venv\\lib\\site-packages\\pip\\_vendor\\urllib3\\response.py\", line 443, in _error_catcher\n",
      "    raise ReadTimeoutError(self._pool, None, \"Read timed out.\")\n",
      "pip._vendor.urllib3.exceptions.ReadTimeoutError: HTTPSConnectionPool(host='files.pythonhosted.org', port=443): Read timed out.\n",
      "WARNING: You are using pip version 21.1.2; however, version 21.3.1 is available.\n",
      "You should consider upgrading via the 'd:\\prvt\\python works\\pythontestv1\\venv\\scripts\\python.exe -m pip install --upgrade pip' command.\n"
     ]
    },
    {
     "name": "stdout",
     "output_type": "stream",
     "text": [
      "Collecting scipy\n",
      "  Downloading scipy-1.7.3-cp310-cp310-win_amd64.whl (34.3 MB)\n"
     ]
    }
   ],
   "source": [
    "# Using yfinance\n",
    "import yfinance as yf\n",
    "\n",
    "# Request historical data for past 5 years\n",
    "datayf = yf.Ticker('NVDA').history(period='5y')\n",
    "\n",
    "# Show info\n",
    "print(datayf.info())"
   ],
   "metadata": {
    "collapsed": false,
    "pycharm": {
     "name": "#%%\n",
     "is_executing": true
    }
   }
  },
  {
   "cell_type": "code",
   "execution_count": 18,
   "outputs": [
    {
     "ename": "NameError",
     "evalue": "name 'datayf' is not defined",
     "output_type": "error",
     "traceback": [
      "\u001B[1;31m---------------------------------------------------------------------------\u001B[0m",
      "\u001B[1;31mNameError\u001B[0m                                 Traceback (most recent call last)",
      "\u001B[1;32m~\\AppData\\Local\\Temp/ipykernel_8856/3858326063.py\u001B[0m in \u001B[0;36m<module>\u001B[1;34m\u001B[0m\n\u001B[1;32m----> 1\u001B[1;33m \u001B[0mprint\u001B[0m\u001B[1;33m(\u001B[0m\u001B[0mdatayf\u001B[0m\u001B[1;33m)\u001B[0m\u001B[1;33m\u001B[0m\u001B[1;33m\u001B[0m\u001B[0m\n\u001B[0m",
      "\u001B[1;31mNameError\u001B[0m: name 'datayf' is not defined"
     ]
    }
   ],
   "source": [
    "print(datayf)"
   ],
   "metadata": {
    "collapsed": false,
    "pycharm": {
     "name": "#%%\n"
    }
   }
  }
 ],
 "metadata": {
  "kernelspec": {
   "display_name": "Python 3",
   "language": "python",
   "name": "python3"
  },
  "language_info": {
   "codemirror_mode": {
    "name": "ipython",
    "version": 2
   },
   "file_extension": ".py",
   "mimetype": "text/x-python",
   "name": "python",
   "nbconvert_exporter": "python",
   "pygments_lexer": "ipython2",
   "version": "2.7.6"
  }
 },
 "nbformat": 4,
 "nbformat_minor": 0
}