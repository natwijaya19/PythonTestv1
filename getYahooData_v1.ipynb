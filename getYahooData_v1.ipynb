{
 "cells": [
  {
   "cell_type": "code",
   "execution_count": 1,
   "metadata": {
    "collapsed": true
   },
   "outputs": [
    {
     "name": "stdout",
     "output_type": "stream",
     "text": [
      "<class 'pandas.core.frame.DataFrame'>\n",
      "DatetimeIndex: 1259 entries, 2016-12-19 to 2021-12-17\n",
      "Data columns (total 6 columns):\n",
      " #   Column     Non-Null Count  Dtype  \n",
      "---  ------     --------------  -----  \n",
      " 0   High       1259 non-null   float64\n",
      " 1   Low        1259 non-null   float64\n",
      " 2   Open       1259 non-null   float64\n",
      " 3   Close      1259 non-null   float64\n",
      " 4   Volume     1259 non-null   float64\n",
      " 5   Adj Close  1259 non-null   float64\n",
      "dtypes: float64(6)\n",
      "memory usage: 68.9 KB\n",
      "None\n"
     ]
    }
   ],
   "source": [
    "# Using Pandas-Datareader # TODO\n",
    "import pandas_datareader as pdr\n",
    "\n",
    "# Request data via Yahoo public API\n",
    "datapdr = pdr.get_data_yahoo ('NVDA')\n",
    "\n",
    "# Display info\n",
    "print(datapdr.info())"
   ]
  },
  {
   "cell_type": "code",
   "execution_count": 4,
   "outputs": [
    {
     "name": "stdout",
     "output_type": "stream",
     "text": [
      "                  High         Low        Open       Close      Volume  \\\n",
      "Date                                                                     \n",
      "2016-12-19   25.612499   24.750000   24.924999   25.407499  74465600.0   \n",
      "2016-12-20   26.532499   26.030001   26.145000   26.292500  84805600.0   \n",
      "2016-12-21   26.487499   25.927500   26.410000   26.457500  57613600.0   \n",
      "2016-12-22   27.217501   26.632500   26.705000   26.777500  71861200.0   \n",
      "2016-12-23   27.459999   26.567499   26.594999   27.445000  64769200.0   \n",
      "...                ...         ...         ...         ...         ...   \n",
      "2021-12-13  302.940002  281.160004  302.489990  281.609985  59834400.0   \n",
      "2021-12-14  286.779999  272.500000  276.989990  283.369995  66703500.0   \n",
      "2021-12-15  305.000000  278.380005  284.000000  304.589996  69829700.0   \n",
      "2021-12-16  311.600006  280.929993  311.519989  283.869995  70736600.0   \n",
      "2021-12-17  289.220001  277.600006  279.850006  278.010010  71375800.0   \n",
      "\n",
      "             Adj Close  \n",
      "Date                    \n",
      "2016-12-19   25.076973  \n",
      "2016-12-20   25.950459  \n",
      "2016-12-21   26.113312  \n",
      "2016-12-22   26.429146  \n",
      "2016-12-23   27.087967  \n",
      "...                ...  \n",
      "2021-12-13  281.609985  \n",
      "2021-12-14  283.369995  \n",
      "2021-12-15  304.589996  \n",
      "2021-12-16  283.869995  \n",
      "2021-12-17  278.010010  \n",
      "\n",
      "[1259 rows x 6 columns]\n"
     ]
    }
   ],
   "source": [
    "print(datapdr)"
   ],
   "metadata": {
    "collapsed": false,
    "pycharm": {
     "name": "#%%\n"
    }
   }
  },
  {
   "cell_type": "code",
   "execution_count": 3,
   "outputs": [
    {
     "name": "stdout",
     "output_type": "stream",
     "text": [
      "<class 'pandas.core.frame.DataFrame'>\n",
      "DatetimeIndex: 1259 entries, 2016-12-19 to 2021-12-17\n",
      "Data columns (total 7 columns):\n",
      " #   Column        Non-Null Count  Dtype  \n",
      "---  ------        --------------  -----  \n",
      " 0   Open          1259 non-null   float64\n",
      " 1   High          1259 non-null   float64\n",
      " 2   Low           1259 non-null   float64\n",
      " 3   Close         1259 non-null   float64\n",
      " 4   Volume        1259 non-null   int64  \n",
      " 5   Dividends     1259 non-null   float64\n",
      " 6   Stock Splits  1259 non-null   float64\n",
      "dtypes: float64(6), int64(1)\n",
      "memory usage: 78.7 KB\n",
      "None\n"
     ]
    }
   ],
   "source": [
    "# Using yfinance\n",
    "import yfinance as yf\n",
    "\n",
    "# Request historical data for past 5 years\n",
    "datayf = yf.Ticker('NVDA').history(period='5y')\n",
    "\n",
    "# Show info\n",
    "print(datayf.info())"
   ],
   "metadata": {
    "collapsed": false,
    "pycharm": {
     "name": "#%%\n"
    }
   }
  },
  {
   "cell_type": "code",
   "execution_count": 6,
   "outputs": [
    {
     "name": "stdout",
     "output_type": "stream",
     "text": [
      "                  Open        High         Low       Close    Volume  \\\n",
      "Date                                                                   \n",
      "2016-12-19   24.600750   25.279306   24.428027   25.076973  74465600   \n",
      "2016-12-20   25.804880   26.187338   25.691376   25.950460  84805600   \n",
      "2016-12-21   26.066433   26.142924   25.590210   26.113316  57613600   \n",
      "2016-12-22   26.357594   26.863428   26.286037   26.429152  71861200   \n",
      "2016-12-23   26.249022   27.102769   26.221880   27.087965  64769200   \n",
      "...                ...         ...         ...         ...       ...   \n",
      "2021-12-13  302.489990  302.940002  281.160004  281.609985  59834400   \n",
      "2021-12-14  276.989990  286.779999  272.500000  283.369995  66703500   \n",
      "2021-12-15  284.000000  305.000000  278.380005  304.589996  69829700   \n",
      "2021-12-16  311.519989  311.600006  280.929993  283.869995  70736600   \n",
      "2021-12-17  279.850006  289.220001  277.600006  278.010010  71375800   \n",
      "\n",
      "            Dividends  Stock Splits  \n",
      "Date                                 \n",
      "2016-12-19        0.0           0.0  \n",
      "2016-12-20        0.0           0.0  \n",
      "2016-12-21        0.0           0.0  \n",
      "2016-12-22        0.0           0.0  \n",
      "2016-12-23        0.0           0.0  \n",
      "...               ...           ...  \n",
      "2021-12-13        0.0           0.0  \n",
      "2021-12-14        0.0           0.0  \n",
      "2021-12-15        0.0           0.0  \n",
      "2021-12-16        0.0           0.0  \n",
      "2021-12-17        0.0           0.0  \n",
      "\n",
      "[1259 rows x 7 columns]\n"
     ]
    }
   ],
   "source": [
    "print(datayf)"
   ],
   "metadata": {
    "collapsed": false,
    "pycharm": {
     "name": "#%%\n"
    }
   }
  },
  {
   "cell_type": "code",
   "execution_count": 8,
   "outputs": [
    {
     "name": "stdout",
     "output_type": "stream",
     "text": [
      "                   Open         High          Low        Close       Volume  \\\n",
      "Date                                                                          \n",
      "2016-12-19  2698.986124  2759.480641  2698.986124  2740.866943   53658000.0   \n",
      "2016-12-20  2708.293249  2754.827497  2708.293249  2750.174072   37145000.0   \n",
      "2016-12-21  2754.827180  2754.827180  2722.253210  2731.560059   97165000.0   \n",
      "2016-12-22  2698.986607  2712.946882  2680.372906  2708.293457   75773000.0   \n",
      "2016-12-23  2680.372351  2717.599745  2657.105230  2689.679199   73656500.0   \n",
      "...                 ...          ...          ...          ...          ...   \n",
      "2021-12-13  7375.000000  7400.000000  7300.000000  7300.000000   59977100.0   \n",
      "2021-12-14  7300.000000  7375.000000  7275.000000  7300.000000   49763600.0   \n",
      "2021-12-15  7300.000000  7375.000000  7275.000000  7300.000000   52477600.0   \n",
      "2021-12-16  7375.000000  7400.000000  7275.000000  7275.000000   95171400.0   \n",
      "2021-12-17  7325.000000  7500.000000  7300.000000  7500.000000  107096800.0   \n",
      "\n",
      "            Dividends  Stock Splits  \n",
      "Date                                 \n",
      "2016-12-19        0.0           0.0  \n",
      "2016-12-20        0.0           0.0  \n",
      "2016-12-21        0.0           0.0  \n",
      "2016-12-22        0.0           0.0  \n",
      "2016-12-23        0.0           0.0  \n",
      "...               ...           ...  \n",
      "2021-12-13        0.0           0.0  \n",
      "2021-12-14        0.0           0.0  \n",
      "2021-12-15        0.0           0.0  \n",
      "2021-12-16        0.0           0.0  \n",
      "2021-12-17        0.0           0.0  \n",
      "\n",
      "[1263 rows x 7 columns]\n"
     ]
    }
   ],
   "source": [
    "# Using yfinance\n",
    "import yfinance as yf\n",
    "\n",
    "# Request historical data for past 5 years\n",
    "datayf = yf.Ticker('BBCA.JK').history(period='5y')\n",
    "\n",
    "# Show info\n",
    "print(datayf)"
   ],
   "metadata": {
    "collapsed": false,
    "pycharm": {
     "name": "#%%\n"
    }
   }
  },
  {
   "cell_type": "code",
   "execution_count": 10,
   "outputs": [
    {
     "name": "stdout",
     "output_type": "stream",
     "text": [
      "<class 'pandas.core.frame.DataFrame'>\n",
      "DatetimeIndex: 1263 entries, 2016-12-19 to 2021-12-17\n",
      "Data columns (total 7 columns):\n",
      " #   Column        Non-Null Count  Dtype  \n",
      "---  ------        --------------  -----  \n",
      " 0   Open          1262 non-null   float64\n",
      " 1   High          1262 non-null   float64\n",
      " 2   Low           1262 non-null   float64\n",
      " 3   Close         1262 non-null   float64\n",
      " 4   Volume        1262 non-null   float64\n",
      " 5   Dividends     1263 non-null   float64\n",
      " 6   Stock Splits  1263 non-null   float64\n",
      "dtypes: float64(7)\n",
      "memory usage: 78.9 KB\n",
      "None\n"
     ]
    }
   ],
   "source": [
    "print(datayf.info())"
   ],
   "metadata": {
    "collapsed": false,
    "pycharm": {
     "name": "#%%\n"
    }
   }
  }
 ],
 "metadata": {
  "kernelspec": {
   "display_name": "Python 3",
   "language": "python",
   "name": "python3"
  },
  "language_info": {
   "codemirror_mode": {
    "name": "ipython",
    "version": 2
   },
   "file_extension": ".py",
   "mimetype": "text/x-python",
   "name": "python",
   "nbconvert_exporter": "python",
   "pygments_lexer": "ipython2",
   "version": "2.7.6"
  }
 },
 "nbformat": 4,
 "nbformat_minor": 0
}