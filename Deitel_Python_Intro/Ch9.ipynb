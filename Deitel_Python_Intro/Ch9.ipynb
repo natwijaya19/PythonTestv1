{
 "cells": [
  {
   "cell_type": "code",
   "execution_count": 1,
   "metadata": {
    "collapsed": true
   },
   "outputs": [],
   "source": [
    "import pandas as pd\n",
    "\n",
    "titanic = pd.read_csv('https://vincentarelbundock.github.io/Rdatasets/csv/carData/TitanicSurvival.csv')"
   ]
  },
  {
   "cell_type": "code",
   "execution_count": 2,
   "outputs": [
    {
     "data": {
      "text/plain": "                        Unnamed: 0 survived     sex      age passengerClass\n0    Allen, Miss. Elisabeth Walton      yes  female  29.0000            1st\n1   Allison, Master. Hudson Trevor      yes    male   0.9167            1st\n2     Allison, Miss. Helen Loraine       no  female   2.0000            1st\n3  Allison, Mr. Hudson Joshua Crei       no    male  30.0000            1st\n4  Allison, Mrs. Hudson J C (Bessi       no  female  25.0000            1st",
      "text/html": "<div>\n<style scoped>\n    .dataframe tbody tr th:only-of-type {\n        vertical-align: middle;\n    }\n\n    .dataframe tbody tr th {\n        vertical-align: top;\n    }\n\n    .dataframe thead th {\n        text-align: right;\n    }\n</style>\n<table border=\"1\" class=\"dataframe\">\n  <thead>\n    <tr style=\"text-align: right;\">\n      <th></th>\n      <th>Unnamed: 0</th>\n      <th>survived</th>\n      <th>sex</th>\n      <th>age</th>\n      <th>passengerClass</th>\n    </tr>\n  </thead>\n  <tbody>\n    <tr>\n      <th>0</th>\n      <td>Allen, Miss. Elisabeth Walton</td>\n      <td>yes</td>\n      <td>female</td>\n      <td>29.0000</td>\n      <td>1st</td>\n    </tr>\n    <tr>\n      <th>1</th>\n      <td>Allison, Master. Hudson Trevor</td>\n      <td>yes</td>\n      <td>male</td>\n      <td>0.9167</td>\n      <td>1st</td>\n    </tr>\n    <tr>\n      <th>2</th>\n      <td>Allison, Miss. Helen Loraine</td>\n      <td>no</td>\n      <td>female</td>\n      <td>2.0000</td>\n      <td>1st</td>\n    </tr>\n    <tr>\n      <th>3</th>\n      <td>Allison, Mr. Hudson Joshua Crei</td>\n      <td>no</td>\n      <td>male</td>\n      <td>30.0000</td>\n      <td>1st</td>\n    </tr>\n    <tr>\n      <th>4</th>\n      <td>Allison, Mrs. Hudson J C (Bessi</td>\n      <td>no</td>\n      <td>female</td>\n      <td>25.0000</td>\n      <td>1st</td>\n    </tr>\n  </tbody>\n</table>\n</div>"
     },
     "execution_count": 2,
     "metadata": {},
     "output_type": "execute_result"
    }
   ],
   "source": [
    "titanic.head()"
   ],
   "metadata": {
    "collapsed": false,
    "pycharm": {
     "name": "#%%\n"
    }
   }
  },
  {
   "cell_type": "code",
   "execution_count": 3,
   "outputs": [
    {
     "data": {
      "text/plain": "                     Unnamed: 0 survived     sex   age passengerClass\n1304       Zabour, Miss. Hileni       no  female  14.5            3rd\n1305      Zabour, Miss. Thamine       no  female   NaN            3rd\n1306  Zakarian, Mr. Mapriededer       no    male  26.5            3rd\n1307        Zakarian, Mr. Ortin       no    male  27.0            3rd\n1308         Zimmerman, Mr. Leo       no    male  29.0            3rd",
      "text/html": "<div>\n<style scoped>\n    .dataframe tbody tr th:only-of-type {\n        vertical-align: middle;\n    }\n\n    .dataframe tbody tr th {\n        vertical-align: top;\n    }\n\n    .dataframe thead th {\n        text-align: right;\n    }\n</style>\n<table border=\"1\" class=\"dataframe\">\n  <thead>\n    <tr style=\"text-align: right;\">\n      <th></th>\n      <th>Unnamed: 0</th>\n      <th>survived</th>\n      <th>sex</th>\n      <th>age</th>\n      <th>passengerClass</th>\n    </tr>\n  </thead>\n  <tbody>\n    <tr>\n      <th>1304</th>\n      <td>Zabour, Miss. Hileni</td>\n      <td>no</td>\n      <td>female</td>\n      <td>14.5</td>\n      <td>3rd</td>\n    </tr>\n    <tr>\n      <th>1305</th>\n      <td>Zabour, Miss. Thamine</td>\n      <td>no</td>\n      <td>female</td>\n      <td>NaN</td>\n      <td>3rd</td>\n    </tr>\n    <tr>\n      <th>1306</th>\n      <td>Zakarian, Mr. Mapriededer</td>\n      <td>no</td>\n      <td>male</td>\n      <td>26.5</td>\n      <td>3rd</td>\n    </tr>\n    <tr>\n      <th>1307</th>\n      <td>Zakarian, Mr. Ortin</td>\n      <td>no</td>\n      <td>male</td>\n      <td>27.0</td>\n      <td>3rd</td>\n    </tr>\n    <tr>\n      <th>1308</th>\n      <td>Zimmerman, Mr. Leo</td>\n      <td>no</td>\n      <td>male</td>\n      <td>29.0</td>\n      <td>3rd</td>\n    </tr>\n  </tbody>\n</table>\n</div>"
     },
     "execution_count": 3,
     "metadata": {},
     "output_type": "execute_result"
    }
   ],
   "source": [
    "titanic.tail()"
   ],
   "metadata": {
    "collapsed": false,
    "pycharm": {
     "name": "#%%\n"
    }
   }
  },
  {
   "cell_type": "code",
   "execution_count": 4,
   "outputs": [
    {
     "data": {
      "text/plain": "                              name survived     sex      age class\n0    Allen, Miss. Elisabeth Walton      yes  female  29.0000   1st\n1   Allison, Master. Hudson Trevor      yes    male   0.9167   1st\n2     Allison, Miss. Helen Loraine       no  female   2.0000   1st\n3  Allison, Mr. Hudson Joshua Crei       no    male  30.0000   1st\n4  Allison, Mrs. Hudson J C (Bessi       no  female  25.0000   1st",
      "text/html": "<div>\n<style scoped>\n    .dataframe tbody tr th:only-of-type {\n        vertical-align: middle;\n    }\n\n    .dataframe tbody tr th {\n        vertical-align: top;\n    }\n\n    .dataframe thead th {\n        text-align: right;\n    }\n</style>\n<table border=\"1\" class=\"dataframe\">\n  <thead>\n    <tr style=\"text-align: right;\">\n      <th></th>\n      <th>name</th>\n      <th>survived</th>\n      <th>sex</th>\n      <th>age</th>\n      <th>class</th>\n    </tr>\n  </thead>\n  <tbody>\n    <tr>\n      <th>0</th>\n      <td>Allen, Miss. Elisabeth Walton</td>\n      <td>yes</td>\n      <td>female</td>\n      <td>29.0000</td>\n      <td>1st</td>\n    </tr>\n    <tr>\n      <th>1</th>\n      <td>Allison, Master. Hudson Trevor</td>\n      <td>yes</td>\n      <td>male</td>\n      <td>0.9167</td>\n      <td>1st</td>\n    </tr>\n    <tr>\n      <th>2</th>\n      <td>Allison, Miss. Helen Loraine</td>\n      <td>no</td>\n      <td>female</td>\n      <td>2.0000</td>\n      <td>1st</td>\n    </tr>\n    <tr>\n      <th>3</th>\n      <td>Allison, Mr. Hudson Joshua Crei</td>\n      <td>no</td>\n      <td>male</td>\n      <td>30.0000</td>\n      <td>1st</td>\n    </tr>\n    <tr>\n      <th>4</th>\n      <td>Allison, Mrs. Hudson J C (Bessi</td>\n      <td>no</td>\n      <td>female</td>\n      <td>25.0000</td>\n      <td>1st</td>\n    </tr>\n  </tbody>\n</table>\n</div>"
     },
     "execution_count": 4,
     "metadata": {},
     "output_type": "execute_result"
    }
   ],
   "source": [
    "titanic.columns = ['name', 'survived', 'sex', 'age', 'class']\n",
    "titanic.head()"
   ],
   "metadata": {
    "collapsed": false,
    "pycharm": {
     "name": "#%%\n"
    }
   }
  },
  {
   "cell_type": "code",
   "execution_count": 5,
   "outputs": [
    {
     "data": {
      "text/plain": "               age\ncount  1046.000000\nmean     29.881135\nstd      14.413500\nmin       0.166700\n25%      21.000000\n50%      28.000000\n75%      39.000000\nmax      80.000000",
      "text/html": "<div>\n<style scoped>\n    .dataframe tbody tr th:only-of-type {\n        vertical-align: middle;\n    }\n\n    .dataframe tbody tr th {\n        vertical-align: top;\n    }\n\n    .dataframe thead th {\n        text-align: right;\n    }\n</style>\n<table border=\"1\" class=\"dataframe\">\n  <thead>\n    <tr style=\"text-align: right;\">\n      <th></th>\n      <th>age</th>\n    </tr>\n  </thead>\n  <tbody>\n    <tr>\n      <th>count</th>\n      <td>1046.000000</td>\n    </tr>\n    <tr>\n      <th>mean</th>\n      <td>29.881135</td>\n    </tr>\n    <tr>\n      <th>std</th>\n      <td>14.413500</td>\n    </tr>\n    <tr>\n      <th>min</th>\n      <td>0.166700</td>\n    </tr>\n    <tr>\n      <th>25%</th>\n      <td>21.000000</td>\n    </tr>\n    <tr>\n      <th>50%</th>\n      <td>28.000000</td>\n    </tr>\n    <tr>\n      <th>75%</th>\n      <td>39.000000</td>\n    </tr>\n    <tr>\n      <th>max</th>\n      <td>80.000000</td>\n    </tr>\n  </tbody>\n</table>\n</div>"
     },
     "execution_count": 5,
     "metadata": {},
     "output_type": "execute_result"
    }
   ],
   "source": [
    "titanic.describe()"
   ],
   "metadata": {
    "collapsed": false,
    "pycharm": {
     "name": "#%%\n"
    }
   }
  },
  {
   "cell_type": "code",
   "execution_count": 6,
   "outputs": [
    {
     "data": {
      "text/plain": "count      1309\nunique        2\ntop       False\nfreq        809\nName: survived, dtype: object"
     },
     "execution_count": 6,
     "metadata": {},
     "output_type": "execute_result"
    }
   ],
   "source": [
    "(titanic.survived == 'yes').describe()"
   ],
   "metadata": {
    "collapsed": false,
    "pycharm": {
     "name": "#%%\n"
    }
   }
  },
  {
   "cell_type": "code",
   "execution_count": null,
   "outputs": [],
   "source": [
    "%matplotlib\n",
    "\n",
    "histogram = titanic.hist()"
   ],
   "metadata": {
    "collapsed": false,
    "pycharm": {
     "name": "#%%\n",
     "is_executing": true
    }
   }
  },
  {
   "cell_type": "code",
   "execution_count": null,
   "outputs": [],
   "source": [],
   "metadata": {
    "collapsed": false,
    "pycharm": {
     "name": "#%%\n"
    }
   }
  }
 ],
 "metadata": {
  "kernelspec": {
   "display_name": "Python 3",
   "language": "python",
   "name": "python3"
  },
  "language_info": {
   "codemirror_mode": {
    "name": "ipython",
    "version": 2
   },
   "file_extension": ".py",
   "mimetype": "text/x-python",
   "name": "python",
   "nbconvert_exporter": "python",
   "pygments_lexer": "ipython2",
   "version": "2.7.6"
  }
 },
 "nbformat": 4,
 "nbformat_minor": 0
}