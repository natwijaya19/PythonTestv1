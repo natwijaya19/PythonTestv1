{
 "cells": [
  {
   "cell_type": "code",
   "execution_count": 68,
   "metadata": {
    "collapsed": true
   },
   "outputs": [
    {
     "data": {
      "text/plain": "[1, 2, 3, 4, 5, 6, 7, 8, 9]"
     },
     "execution_count": 68,
     "metadata": {},
     "output_type": "execute_result"
    }
   ],
   "source": [
    "a_list = []\n",
    "for number in range(1,10):\n",
    "    a_list = a_list +[number]\n",
    "\n",
    "a_list"
   ]
  },
  {
   "cell_type": "code",
   "execution_count": 69,
   "outputs": [
    {
     "data": {
      "text/plain": "('John', 'Green', 3.3)"
     },
     "execution_count": 69,
     "metadata": {},
     "output_type": "execute_result"
    }
   ],
   "source": [
    "student_tuple = 'John', 'Green', 3.3\n",
    "student_tuple"
   ],
   "metadata": {
    "collapsed": false,
    "pycharm": {
     "name": "#%%\n"
    }
   }
  },
  {
   "cell_type": "code",
   "execution_count": 70,
   "outputs": [
    {
     "data": {
      "text/plain": "3"
     },
     "execution_count": 70,
     "metadata": {},
     "output_type": "execute_result"
    }
   ],
   "source": [
    "len(student_tuple)"
   ],
   "metadata": {
    "collapsed": false,
    "pycharm": {
     "name": "#%%\n"
    }
   }
  },
  {
   "cell_type": "code",
   "execution_count": 71,
   "outputs": [
    {
     "data": {
      "text/plain": "9"
     },
     "execution_count": 71,
     "metadata": {},
     "output_type": "execute_result"
    }
   ],
   "source": [
    "len(a_list)"
   ],
   "metadata": {
    "collapsed": false,
    "pycharm": {
     "name": "#%%\n"
    }
   }
  },
  {
   "cell_type": "code",
   "execution_count": 72,
   "outputs": [
    {
     "data": {
      "text/plain": "[1, 2, 3, 4, 5, 6, 7, 8, 9]"
     },
     "execution_count": 72,
     "metadata": {},
     "output_type": "execute_result"
    }
   ],
   "source": [
    "list1 = list(range(1,10))\n",
    "list1"
   ],
   "metadata": {
    "collapsed": false,
    "pycharm": {
     "name": "#%%\n"
    }
   }
  },
  {
   "cell_type": "code",
   "execution_count": 73,
   "outputs": [],
   "source": [
    "import matplotlib.pyplot as plt\n",
    "import numpy as np\n",
    "import random\n",
    "import seaborn as sns\n",
    "\n",
    "rolls = [random.randrange(1,7) for i in range(600)]\n",
    "values, frequencies = np.unique(rolls, return_counts=True)\n"
   ],
   "metadata": {
    "collapsed": false,
    "pycharm": {
     "name": "#%%\n"
    }
   }
  },
  {
   "cell_type": "code",
   "execution_count": 74,
   "outputs": [
    {
     "data": {
      "text/plain": "<bound method _make_class_factory.<locals>.class_factory.<locals>.subcls.set of <AxesSubplot:title={'center':'rolling six-sided die for 600 times'}>>"
     },
     "execution_count": 74,
     "metadata": {},
     "output_type": "execute_result"
    },
    {
     "data": {
      "text/plain": "<Figure size 432x288 with 1 Axes>",
      "image/png": "[encoded data removed]"
     },
     "metadata": {},
     "output_type": "display_data"
    }
   ],
   "source": [
    "title = f'rolling six-sided die for {len(rolls):,} times'\n",
    "sns.set_style('whitegrid')\n",
    "axes = sns.barplot(x=values, y=frequencies, palette = 'bright')\n",
    "axes.set_title(title)\n",
    "axes.set\n"
   ],
   "metadata": {
    "collapsed": false,
    "pycharm": {
     "name": "#%%\n"
    }
   }
  },
  {
   "cell_type": "code",
   "execution_count": 75,
   "outputs": [
    {
     "data": {
      "text/plain": "{'Wally': [87, 96, 70],\n 'Eva': [100, 87, 90],\n 'Sam': [94, 77, 90],\n 'Katie': [100, 81, 82],\n 'Bob': [83, 65, 85]}"
     },
     "execution_count": 75,
     "metadata": {},
     "output_type": "execute_result"
    }
   ],
   "source": [
    "import pandas as pd\n",
    "\n",
    "grades_dic = {'Wally': [87, 96, 70],\n",
    "              'Eva': [100, 87, 90],\n",
    "              'Sam': [94, 77, 90],\n",
    "              'Katie': [100, 81, 82],\n",
    "              'Bob': [83, 65, 85]}\n",
    "\n",
    "grades_dic"
   ],
   "metadata": {
    "collapsed": false,
    "pycharm": {
     "name": "#%%\n"
    }
   }
  },
  {
   "cell_type": "code",
   "execution_count": 76,
   "outputs": [
    {
     "data": {
      "text/plain": "   Wally  Eva  Sam  Katie  Bob\n0     87  100   94    100   83\n1     96   87   77     81   65\n2     70   90   90     82   85",
      "text/html": "<div>\n<style scoped>\n    .dataframe tbody tr th:only-of-type {\n        vertical-align: middle;\n    }\n\n    .dataframe tbody tr th {\n        vertical-align: top;\n    }\n\n    .dataframe thead th {\n        text-align: right;\n    }\n</style>\n<table border=\"1\" class=\"dataframe\">\n  <thead>\n    <tr style=\"text-align: right;\">\n      <th></th>\n      <th>Wally</th>\n      <th>Eva</th>\n      <th>Sam</th>\n      <th>Katie</th>\n      <th>Bob</th>\n    </tr>\n  </thead>\n  <tbody>\n    <tr>\n      <th>0</th>\n      <td>87</td>\n      <td>100</td>\n      <td>94</td>\n      <td>100</td>\n      <td>83</td>\n    </tr>\n    <tr>\n      <th>1</th>\n      <td>96</td>\n      <td>87</td>\n      <td>77</td>\n      <td>81</td>\n      <td>65</td>\n    </tr>\n    <tr>\n      <th>2</th>\n      <td>70</td>\n      <td>90</td>\n      <td>90</td>\n      <td>82</td>\n      <td>85</td>\n    </tr>\n  </tbody>\n</table>\n</div>"
     },
     "execution_count": 76,
     "metadata": {},
     "output_type": "execute_result"
    }
   ],
   "source": [
    "grades = pd.DataFrame(grades_dic)\n",
    "grades"
   ],
   "metadata": {
    "collapsed": false,
    "pycharm": {
     "name": "#%%\n"
    }
   }
  },
  {
   "cell_type": "code",
   "execution_count": 77,
   "outputs": [
    {
     "data": {
      "text/plain": "        Wally  Eva  Sam  Katie  Bob\nTest 1     87  100   94    100   83\nTest 2     96   87   77     81   65\nTest 3     70   90   90     82   85",
      "text/html": "<div>\n<style scoped>\n    .dataframe tbody tr th:only-of-type {\n        vertical-align: middle;\n    }\n\n    .dataframe tbody tr th {\n        vertical-align: top;\n    }\n\n    .dataframe thead th {\n        text-align: right;\n    }\n</style>\n<table border=\"1\" class=\"dataframe\">\n  <thead>\n    <tr style=\"text-align: right;\">\n      <th></th>\n      <th>Wally</th>\n      <th>Eva</th>\n      <th>Sam</th>\n      <th>Katie</th>\n      <th>Bob</th>\n    </tr>\n  </thead>\n  <tbody>\n    <tr>\n      <th>Test 1</th>\n      <td>87</td>\n      <td>100</td>\n      <td>94</td>\n      <td>100</td>\n      <td>83</td>\n    </tr>\n    <tr>\n      <th>Test 2</th>\n      <td>96</td>\n      <td>87</td>\n      <td>77</td>\n      <td>81</td>\n      <td>65</td>\n    </tr>\n    <tr>\n      <th>Test 3</th>\n      <td>70</td>\n      <td>90</td>\n      <td>90</td>\n      <td>82</td>\n      <td>85</td>\n    </tr>\n  </tbody>\n</table>\n</div>"
     },
     "execution_count": 77,
     "metadata": {},
     "output_type": "execute_result"
    }
   ],
   "source": [
    "grades = pd.DataFrame(grades_dic, index=['Test 1', 'Test 2', 'Test 3'])\n",
    "grades"
   ],
   "metadata": {
    "collapsed": false,
    "pycharm": {
     "name": "#%%\n"
    }
   }
  },
  {
   "cell_type": "code",
   "execution_count": 78,
   "outputs": [
    {
     "data": {
      "text/plain": "Test 1    94\nTest 2    77\nTest 3    90\nName: Sam, dtype: int64"
     },
     "execution_count": 78,
     "metadata": {},
     "output_type": "execute_result"
    }
   ],
   "source": [
    "grades.Sam"
   ],
   "metadata": {
    "collapsed": false,
    "pycharm": {
     "name": "#%%\n"
    }
   }
  },
  {
   "cell_type": "code",
   "execution_count": 79,
   "outputs": [
    {
     "data": {
      "text/plain": "Wally     87\nEva      100\nSam       94\nKatie    100\nBob       83\nName: Test 1, dtype: int64"
     },
     "execution_count": 79,
     "metadata": {},
     "output_type": "execute_result"
    }
   ],
   "source": [
    "grades.loc['Test 1']"
   ],
   "metadata": {
    "collapsed": false,
    "pycharm": {
     "name": "#%%\n"
    }
   }
  },
  {
   "cell_type": "code",
   "execution_count": 80,
   "outputs": [
    {
     "data": {
      "text/plain": "Wally     87\nEva      100\nSam       94\nKatie    100\nBob       83\nName: Test 1, dtype: int64"
     },
     "execution_count": 80,
     "metadata": {},
     "output_type": "execute_result"
    }
   ],
   "source": [
    "grades.iloc[0]"
   ],
   "metadata": {
    "collapsed": false,
    "pycharm": {
     "name": "#%%\n"
    }
   }
  },
  {
   "cell_type": "code",
   "execution_count": 81,
   "outputs": [
    {
     "data": {
      "text/plain": "        Wally  Eva  Sam\nTest 1     87  100   94\nTest 2     96   87   77",
      "text/html": "<div>\n<style scoped>\n    .dataframe tbody tr th:only-of-type {\n        vertical-align: middle;\n    }\n\n    .dataframe tbody tr th {\n        vertical-align: top;\n    }\n\n    .dataframe thead th {\n        text-align: right;\n    }\n</style>\n<table border=\"1\" class=\"dataframe\">\n  <thead>\n    <tr style=\"text-align: right;\">\n      <th></th>\n      <th>Wally</th>\n      <th>Eva</th>\n      <th>Sam</th>\n    </tr>\n  </thead>\n  <tbody>\n    <tr>\n      <th>Test 1</th>\n      <td>87</td>\n      <td>100</td>\n      <td>94</td>\n    </tr>\n    <tr>\n      <th>Test 2</th>\n      <td>96</td>\n      <td>87</td>\n      <td>77</td>\n    </tr>\n  </tbody>\n</table>\n</div>"
     },
     "execution_count": 81,
     "metadata": {},
     "output_type": "execute_result"
    }
   ],
   "source": [
    "grades.iloc[0:2,0:3]"
   ],
   "metadata": {
    "collapsed": false,
    "pycharm": {
     "name": "#%%\n"
    }
   }
  },
  {
   "cell_type": "code",
   "execution_count": 82,
   "outputs": [
    {
     "data": {
      "text/plain": "           Wally         Eva        Sam       Katie        Bob\ncount   3.000000    3.000000   3.000000    3.000000   3.000000\nmean   84.333333   92.333333  87.000000   87.666667  77.666667\nstd    13.203535    6.806859   8.888194   10.692677  11.015141\nmin    70.000000   87.000000  77.000000   81.000000  65.000000\n25%    78.500000   88.500000  83.500000   81.500000  74.000000\n50%    87.000000   90.000000  90.000000   82.000000  83.000000\n75%    91.500000   95.000000  92.000000   91.000000  84.000000\nmax    96.000000  100.000000  94.000000  100.000000  85.000000",
      "text/html": "<div>\n<style scoped>\n    .dataframe tbody tr th:only-of-type {\n        vertical-align: middle;\n    }\n\n    .dataframe tbody tr th {\n        vertical-align: top;\n    }\n\n    .dataframe thead th {\n        text-align: right;\n    }\n</style>\n<table border=\"1\" class=\"dataframe\">\n  <thead>\n    <tr style=\"text-align: right;\">\n      <th></th>\n      <th>Wally</th>\n      <th>Eva</th>\n      <th>Sam</th>\n      <th>Katie</th>\n      <th>Bob</th>\n    </tr>\n  </thead>\n  <tbody>\n    <tr>\n      <th>count</th>\n      <td>3.000000</td>\n      <td>3.000000</td>\n      <td>3.000000</td>\n      <td>3.000000</td>\n      <td>3.000000</td>\n    </tr>\n    <tr>\n      <th>mean</th>\n      <td>84.333333</td>\n      <td>92.333333</td>\n      <td>87.000000</td>\n      <td>87.666667</td>\n      <td>77.666667</td>\n    </tr>\n    <tr>\n      <th>std</th>\n      <td>13.203535</td>\n      <td>6.806859</td>\n      <td>8.888194</td>\n      <td>10.692677</td>\n      <td>11.015141</td>\n    </tr>\n    <tr>\n      <th>min</th>\n      <td>70.000000</td>\n      <td>87.000000</td>\n      <td>77.000000</td>\n      <td>81.000000</td>\n      <td>65.000000</td>\n    </tr>\n    <tr>\n      <th>25%</th>\n      <td>78.500000</td>\n      <td>88.500000</td>\n      <td>83.500000</td>\n      <td>81.500000</td>\n      <td>74.000000</td>\n    </tr>\n    <tr>\n      <th>50%</th>\n      <td>87.000000</td>\n      <td>90.000000</td>\n      <td>90.000000</td>\n      <td>82.000000</td>\n      <td>83.000000</td>\n    </tr>\n    <tr>\n      <th>75%</th>\n      <td>91.500000</td>\n      <td>95.000000</td>\n      <td>92.000000</td>\n      <td>91.000000</td>\n      <td>84.000000</td>\n    </tr>\n    <tr>\n      <th>max</th>\n      <td>96.000000</td>\n      <td>100.000000</td>\n      <td>94.000000</td>\n      <td>100.000000</td>\n      <td>85.000000</td>\n    </tr>\n  </tbody>\n</table>\n</div>"
     },
     "execution_count": 82,
     "metadata": {},
     "output_type": "execute_result"
    }
   ],
   "source": [
    "grades.describe()"
   ],
   "metadata": {
    "collapsed": false,
    "pycharm": {
     "name": "#%%\n"
    }
   }
  },
  {
   "cell_type": "code",
   "execution_count": 83,
   "outputs": [
    {
     "data": {
      "text/plain": "       Test 1  Test 2  Test 3\nWally      87      96      70\nEva       100      87      90\nSam        94      77      90\nKatie     100      81      82\nBob        83      65      85",
      "text/html": "<div>\n<style scoped>\n    .dataframe tbody tr th:only-of-type {\n        vertical-align: middle;\n    }\n\n    .dataframe tbody tr th {\n        vertical-align: top;\n    }\n\n    .dataframe thead th {\n        text-align: right;\n    }\n</style>\n<table border=\"1\" class=\"dataframe\">\n  <thead>\n    <tr style=\"text-align: right;\">\n      <th></th>\n      <th>Test 1</th>\n      <th>Test 2</th>\n      <th>Test 3</th>\n    </tr>\n  </thead>\n  <tbody>\n    <tr>\n      <th>Wally</th>\n      <td>87</td>\n      <td>96</td>\n      <td>70</td>\n    </tr>\n    <tr>\n      <th>Eva</th>\n      <td>100</td>\n      <td>87</td>\n      <td>90</td>\n    </tr>\n    <tr>\n      <th>Sam</th>\n      <td>94</td>\n      <td>77</td>\n      <td>90</td>\n    </tr>\n    <tr>\n      <th>Katie</th>\n      <td>100</td>\n      <td>81</td>\n      <td>82</td>\n    </tr>\n    <tr>\n      <th>Bob</th>\n      <td>83</td>\n      <td>65</td>\n      <td>85</td>\n    </tr>\n  </tbody>\n</table>\n</div>"
     },
     "execution_count": 83,
     "metadata": {},
     "output_type": "execute_result"
    }
   ],
   "source": [
    "gradesT = grades.T\n",
    "\n",
    "gradesT"
   ],
   "metadata": {
    "collapsed": false,
    "pycharm": {
     "name": "#%%\n"
    }
   }
  },
  {
   "cell_type": "code",
   "execution_count": 84,
   "outputs": [
    {
     "data": {
      "text/plain": "       Test 2  Test 3\nEva        87      90\nSam        77      90\nKatie      81      82",
      "text/html": "<div>\n<style scoped>\n    .dataframe tbody tr th:only-of-type {\n        vertical-align: middle;\n    }\n\n    .dataframe tbody tr th {\n        vertical-align: top;\n    }\n\n    .dataframe thead th {\n        text-align: right;\n    }\n</style>\n<table border=\"1\" class=\"dataframe\">\n  <thead>\n    <tr style=\"text-align: right;\">\n      <th></th>\n      <th>Test 2</th>\n      <th>Test 3</th>\n    </tr>\n  </thead>\n  <tbody>\n    <tr>\n      <th>Eva</th>\n      <td>87</td>\n      <td>90</td>\n    </tr>\n    <tr>\n      <th>Sam</th>\n      <td>77</td>\n      <td>90</td>\n    </tr>\n    <tr>\n      <th>Katie</th>\n      <td>81</td>\n      <td>82</td>\n    </tr>\n  </tbody>\n</table>\n</div>"
     },
     "execution_count": 84,
     "metadata": {},
     "output_type": "execute_result"
    }
   ],
   "source": [
    "gradesT.iloc[1:4,1:3]"
   ],
   "metadata": {
    "collapsed": false,
    "pycharm": {
     "name": "#%%\n"
    }
   }
  },
  {
   "cell_type": "code",
   "execution_count": 86,
   "outputs": [
    {
     "data": {
      "text/plain": "        Wally  Eva  Sam  Katie  Bob\nTest 1     87  100   94    100   83\nTest 2     96   87   77     81   65\nTest 3     70   90   90     82   85",
      "text/html": "<div>\n<style scoped>\n    .dataframe tbody tr th:only-of-type {\n        vertical-align: middle;\n    }\n\n    .dataframe tbody tr th {\n        vertical-align: top;\n    }\n\n    .dataframe thead th {\n        text-align: right;\n    }\n</style>\n<table border=\"1\" class=\"dataframe\">\n  <thead>\n    <tr style=\"text-align: right;\">\n      <th></th>\n      <th>Wally</th>\n      <th>Eva</th>\n      <th>Sam</th>\n      <th>Katie</th>\n      <th>Bob</th>\n    </tr>\n  </thead>\n  <tbody>\n    <tr>\n      <th>Test 1</th>\n      <td>87</td>\n      <td>100</td>\n      <td>94</td>\n      <td>100</td>\n      <td>83</td>\n    </tr>\n    <tr>\n      <th>Test 2</th>\n      <td>96</td>\n      <td>87</td>\n      <td>77</td>\n      <td>81</td>\n      <td>65</td>\n    </tr>\n    <tr>\n      <th>Test 3</th>\n      <td>70</td>\n      <td>90</td>\n      <td>90</td>\n      <td>82</td>\n      <td>85</td>\n    </tr>\n  </tbody>\n</table>\n</div>"
     },
     "execution_count": 86,
     "metadata": {},
     "output_type": "execute_result"
    }
   ],
   "source": [
    "grades.sort_index()"
   ],
   "metadata": {
    "collapsed": false,
    "pycharm": {
     "name": "#%%\n"
    }
   }
  },
  {
   "cell_type": "code",
   "execution_count": 87,
   "outputs": [
    {
     "data": {
      "text/plain": "        Eva  Katie  Sam  Wally  Bob\nTest 1  100    100   94     87   83\nTest 2   87     81   77     96   65\nTest 3   90     82   90     70   85",
      "text/html": "<div>\n<style scoped>\n    .dataframe tbody tr th:only-of-type {\n        vertical-align: middle;\n    }\n\n    .dataframe tbody tr th {\n        vertical-align: top;\n    }\n\n    .dataframe thead th {\n        text-align: right;\n    }\n</style>\n<table border=\"1\" class=\"dataframe\">\n  <thead>\n    <tr style=\"text-align: right;\">\n      <th></th>\n      <th>Eva</th>\n      <th>Katie</th>\n      <th>Sam</th>\n      <th>Wally</th>\n      <th>Bob</th>\n    </tr>\n  </thead>\n  <tbody>\n    <tr>\n      <th>Test 1</th>\n      <td>100</td>\n      <td>100</td>\n      <td>94</td>\n      <td>87</td>\n      <td>83</td>\n    </tr>\n    <tr>\n      <th>Test 2</th>\n      <td>87</td>\n      <td>81</td>\n      <td>77</td>\n      <td>96</td>\n      <td>65</td>\n    </tr>\n    <tr>\n      <th>Test 3</th>\n      <td>90</td>\n      <td>82</td>\n      <td>90</td>\n      <td>70</td>\n      <td>85</td>\n    </tr>\n  </tbody>\n</table>\n</div>"
     },
     "execution_count": 87,
     "metadata": {},
     "output_type": "execute_result"
    }
   ],
   "source": [
    "grades.sort_values(axis=1, by='Test 1', ascending=False)"
   ],
   "metadata": {
    "collapsed": false,
    "pycharm": {
     "name": "#%%\n"
    }
   }
  },
  {
   "cell_type": "code",
   "execution_count": 93,
   "outputs": [
    {
     "data": {
      "text/plain": "       Test 1  Test 2  Test 3\nEva       100      87      90\nKatie     100      81      82\nSam        94      77      90\nWally      87      96      70\nBob        83      65      85",
      "text/html": "<div>\n<style scoped>\n    .dataframe tbody tr th:only-of-type {\n        vertical-align: middle;\n    }\n\n    .dataframe tbody tr th {\n        vertical-align: top;\n    }\n\n    .dataframe thead th {\n        text-align: right;\n    }\n</style>\n<table border=\"1\" class=\"dataframe\">\n  <thead>\n    <tr style=\"text-align: right;\">\n      <th></th>\n      <th>Test 1</th>\n      <th>Test 2</th>\n      <th>Test 3</th>\n    </tr>\n  </thead>\n  <tbody>\n    <tr>\n      <th>Eva</th>\n      <td>100</td>\n      <td>87</td>\n      <td>90</td>\n    </tr>\n    <tr>\n      <th>Katie</th>\n      <td>100</td>\n      <td>81</td>\n      <td>82</td>\n    </tr>\n    <tr>\n      <th>Sam</th>\n      <td>94</td>\n      <td>77</td>\n      <td>90</td>\n    </tr>\n    <tr>\n      <th>Wally</th>\n      <td>87</td>\n      <td>96</td>\n      <td>70</td>\n    </tr>\n    <tr>\n      <th>Bob</th>\n      <td>83</td>\n      <td>65</td>\n      <td>85</td>\n    </tr>\n  </tbody>\n</table>\n</div>"
     },
     "execution_count": 93,
     "metadata": {},
     "output_type": "execute_result"
    }
   ],
   "source": [
    "grades.T.sort_values(by='Test 1', ascending=False)"
   ],
   "metadata": {
    "collapsed": false,
    "pycharm": {
     "name": "#%%\n"
    }
   }
  },
  {
   "cell_type": "code",
   "execution_count": 94,
   "outputs": [
    {
     "data": {
      "text/plain": "Eva      100\nKatie    100\nSam       94\nWally     87\nBob       83\nName: Test 1, dtype: int64"
     },
     "execution_count": 94,
     "metadata": {},
     "output_type": "execute_result"
    }
   ],
   "source": [
    "grades.loc['Test 1'].sort_values(ascending=False)"
   ],
   "metadata": {
    "collapsed": false,
    "pycharm": {
     "name": "#%%\n"
    }
   }
  },
  {
   "cell_type": "code",
   "execution_count": null,
   "outputs": [],
   "source": [],
   "metadata": {
    "collapsed": false,
    "pycharm": {
     "name": "#%%\n"
    }
   }
  }
 ],
 "metadata": {
  "kernelspec": {
   "display_name": "Python 3",
   "language": "python",
   "name": "python3"
  },
  "language_info": {
   "codemirror_mode": {
    "name": "ipython",
    "version": 2
   },
   "file_extension": ".py",
   "mimetype": "text/x-python",
   "name": "python",
   "nbconvert_exporter": "python",
   "pygments_lexer": "ipython2",
   "version": "2.7.6"
  }
 },
 "nbformat": 4,
 "nbformat_minor": 0
}